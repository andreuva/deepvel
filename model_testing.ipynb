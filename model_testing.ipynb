{
 "cells": [
  {
   "cell_type": "code",
   "execution_count": 1,
   "id": "86db8162",
   "metadata": {},
   "outputs": [],
   "source": [
    "import numpy as np\n",
    "import muram as muram\n",
    "import matplotlib.pyplot as plt\n",
    "from glob import glob\n",
    "from tqdm import tqdm\n",
    "# Test the dataset and the dataloader\n",
    "from dataset import MURAMVelocityDataset\n",
    "from torch.utils.data import DataLoader\n",
    "import json, os\n",
    "import torch\n",
    "from deepvel_unet2 import UDeepVel"
   ]
  },
  {
   "cell_type": "code",
   "execution_count": 2,
   "id": "eee6aa07",
   "metadata": {},
   "outputs": [],
   "source": [
    "path = 'data'\n",
    "intensity_files = sorted(glob(f'{path}/I_out*'))\n",
    "iterations = [int(file[-6:]) for file in intensity_files]\n",
    "img_size = 64\n",
    "stride=5\n",
    "base_dir = 'checkpoints_full_32_dropout_lr'\n",
    "config_file = f'{base_dir}/config.json'\n",
    "output_dir = f'{base_dir}'\n",
    "model_file = f'{base_dir}/deepvel_best_4992.pth'"
   ]
  },
  {
   "cell_type": "code",
   "execution_count": 3,
   "id": "a8403709",
   "metadata": {},
   "outputs": [
    {
     "name": "stderr",
     "output_type": "stream",
     "text": [
      "Loading data: 100%|██████████| 10/10 [00:00<00:00, 12.73it/s]\n"
     ]
    }
   ],
   "source": [
    "Intensities = []\n",
    "velocities = []\n",
    "times = []\n",
    "for iter in tqdm(iterations[:10], desc=\"Loading data\"):\n",
    "    # load the intensity data\n",
    "    Intensities.append(muram.MuramIntensity(path, iter))\n",
    "    # load the velocity data\n",
    "    tau_slice = muram.MuramTauSlice(path, iter, 1)\n",
    "    # extract the velocity data\n",
    "    vx, vy = tau_slice.vy, tau_slice.vz\n",
    "    # insert the velocity data into the list\n",
    "    velocities.append((vx, vy))\n",
    "    times.append(tau_slice.time)"
   ]
  },
  {
   "cell_type": "code",
   "execution_count": 4,
   "id": "a1fd7767",
   "metadata": {},
   "outputs": [],
   "source": [
    "Intensities_subsample = Intensities\n",
    "velocities_subsample = velocities\n",
    "times_subsample = times"
   ]
  },
  {
   "cell_type": "code",
   "execution_count": 5,
   "id": "bdb7ab1d",
   "metadata": {},
   "outputs": [],
   "source": [
    "# Load configuration\n",
    "with open(config_file, 'r') as f:\n",
    "    config = json.load(f)\n",
    "\n",
    "# Create output directory\n",
    "if not os.path.exists(output_dir):\n",
    "    os.makedirs(output_dir)"
   ]
  },
  {
   "cell_type": "code",
   "execution_count": 6,
   "id": "93cebd60",
   "metadata": {},
   "outputs": [],
   "source": [
    "# Initialize the dataset\n",
    "dataset = MURAMVelocityDataset(Intensities_subsample, velocities_subsample, times_subsample,\n",
    "                                img_size=config[\"dataset\"][\"patch_size\"],\n",
    "                                batch_size=1,  # Process one sample at a time for testing\n",
    "                                aug=None,  # No augmentation for testing\n",
    "                                ) #seed= config[\"dataset\"][\"seed\"])\n",
    "\n",
    "# Create a DataLoader\n",
    "dataloader = DataLoader(dataset, batch_size=None)"
   ]
  },
  {
   "cell_type": "code",
   "execution_count": null,
   "id": "ee8789fe",
   "metadata": {},
   "outputs": [],
   "source": [
    "# Initialize model\n",
    "model = UDeepVel(\n",
    "    input_channels=config[\"model\"][\"input_channels\"],\n",
    "    output_channels=config[\"model\"][\"output_channels\"],\n",
    "    n_latent_chanels=config[\"model\"][\"n_latent_chanels\"],\n",
    "    chanels_multiples=config[\"model\"][\"chanels_multiples\"],\n",
    "    is_attn_encoder=config[\"model\"][\"is_attn_encoder\"],\n",
    "    is_attn_decoder=config[\"model\"][\"is_attn_decoder\"],\n",
    "    n_blocks=config[\"model\"][\"n_blocks\"],\n",
    "    time_emb_dim=config[\"model\"][\"time_emb_dim\"],\n",
    "    padding_mode=config[\"model\"][\"padding_mode\"],\n",
    "    bilinear=config[\"model\"][\"bilinear\"]\n",
    ")\n",
    "model.load_state_dict(torch.load(model_file)[\"model\"])\n",
    "model = model.to(config[\"training\"][\"used_gpu\"])\n",
    "model.eval()"
   ]
  },
  {
   "cell_type": "code",
   "execution_count": null,
   "id": "31048a95",
   "metadata": {},
   "outputs": [],
   "source": [
    "# Loss function\n",
    "criterion = torch.nn.MSELoss()\n",
    "\n",
    "num_samples = 10  # Number of samples to test\n",
    "\n",
    "# Test loop\n",
    "total_loss = 0.0\n",
    "\n",
    "fig, axs = plt.subplots(num_samples, 1, figsize=(12, 18), dpi=300)\n",
    "with torch.no_grad():\n",
    "    for i, (X_batch, Y_batch, T_batch) in enumerate(tqdm(dataloader, total=num_samples, desc=\"Testing\")):\n",
    "        if i >= num_samples:\n",
    "            break\n",
    "\n",
    "        X_batch = X_batch.to(config[\"training\"][\"used_gpu\"])\n",
    "        Y_batch = Y_batch.to(config[\"training\"][\"used_gpu\"])\n",
    "        T_batch = T_batch.to(config[\"training\"][\"used_gpu\"])\n",
    "\n",
    "        # Forward pass\n",
    "        outputs = model(X_batch, T_batch)\n",
    "        loss = criterion(outputs, Y_batch)\n",
    "        total_loss += loss.item()\n",
    "\n",
    "        # Convert to numpy for visualization\n",
    "        pred = outputs.cpu().numpy()[0]  # Shape: (2, H, W)\n",
    "        true = Y_batch.cpu().numpy()[0]  # Shape: (2, H, W)\n",
    "        vx_pred, vy_pred = pred[0], pred[1]\n",
    "        vx_true, vy_true = true[0], true[1]\n",
    "\n",
    "        X_batch = X_batch.cpu().numpy()\n",
    "        Y_batch = Y_batch.cpu().numpy()\n",
    "        T_batch = T_batch.cpu().numpy()\n",
    "\n",
    "        concatenated = np.hstack([X_batch[0, j, ...] for j in range(3)])\n",
    "            \n",
    "        # Create a grid for the velocity field (from the middle image).\n",
    "        # Use the already defined stride.\n",
    "        rows_idx = np.arange(0, Y_batch.shape[-2], stride)\n",
    "        cols_idx = np.arange(0, Y_batch.shape[-1], stride)\n",
    "        Xgrid, Ygrid = np.meshgrid(cols_idx, rows_idx)\n",
    "        # Extract the velocity components; note the swaped order in quiver.\n",
    "        vx_sample_field = vx_true[::stride, ::stride]\n",
    "        vy_sample_field = vy_true[::stride, ::stride]\n",
    "        vx_pred_sample_field = vx_pred[::stride, ::stride]\n",
    "        vy_pred_sample_field = vy_pred[::stride, ::stride]\n",
    "\n",
    "        # Since the middle image is the second one (assuming equal widths),\n",
    "        # the intensity of the middle image is located in the center third.\n",
    "        offset = concatenated.shape[1] // 3\n",
    "        Xgrid_offset_true = Xgrid + 2*offset\n",
    "        Xgrid_offset_pred = Xgrid + 0*offset\n",
    "\n",
    "        ax = axs[i]\n",
    "        ax.imshow(concatenated, cmap='afmhot', origin='lower')\n",
    "        mag = np.sqrt(vx_sample_field**2 + vy_sample_field**2)\n",
    "        mag_pred = np.sqrt(vx_pred_sample_field**2 + vy_pred_sample_field**2)\n",
    "        ax.quiver(Xgrid_offset_true, Ygrid, vy_sample_field, vx_sample_field, mag, color='blue')\n",
    "        ax.quiver(Xgrid_offset_pred, Ygrid, vy_pred_sample_field, vx_pred_sample_field, mag_pred, color='red')\n",
    "        ax.set_title(f\"Batch {i+1} - Times: {T_batch[0,0]} {T_batch[0,1]} {T_batch[0,2]}\")\n",
    "        ax.axis(\"off\")\n",
    "\n",
    "        plt.tight_layout()\n",
    "        # Save visualization\n",
    "    plt.savefig(os.path.join(output_dir, f\"test_samples.png\"))\n",
    "    plt.close()\n",
    "\n",
    "avg_loss = total_loss / num_samples\n",
    "print(f\"Average MSE Loss on {num_samples} test samples: {avg_loss:.4f}\")"
   ]
  },
  {
   "cell_type": "code",
   "execution_count": null,
   "id": "9ba6a0cc",
   "metadata": {},
   "outputs": [],
   "source": []
  }
 ],
 "metadata": {
  "kernelspec": {
   "display_name": ".venv_gpu",
   "language": "python",
   "name": "python3"
  },
  "language_info": {
   "codemirror_mode": {
    "name": "ipython",
    "version": 3
   },
   "file_extension": ".py",
   "mimetype": "text/x-python",
   "name": "python",
   "nbconvert_exporter": "python",
   "pygments_lexer": "ipython3",
   "version": "3.9.19"
  }
 },
 "nbformat": 4,
 "nbformat_minor": 5
}
